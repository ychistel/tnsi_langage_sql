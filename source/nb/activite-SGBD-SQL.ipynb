{
 "cells": [
  {
   "cell_type": "markdown",
   "metadata": {},
   "source": [
    "# Activité : SGBD - SQL\n",
    "\n",
    "Le langage SQL (Structured Query Language) est principalement utilisé par les SGBD et les bases de données relationnelles.\n",
    "\n",
    "Les commandes SQL exécutées ci-après vont :\n",
    "- créer les tables de la base de données libres.db\n",
    "- insérer des données dans les tables\n",
    "- interroger les données des tables\n",
    "- ajouter et modifier des données de certaines tables\n",
    "\n",
    "Pour effectuer ces commandes, on utilise des CLAUSE sql : SELECT, WHERE ,DISTINCT, ORDER BY, INSERT INTO, UPDATE."
   ]
  },
  {
   "cell_type": "code",
   "execution_count": 1,
   "metadata": {},
   "outputs": [],
   "source": [
    "# Chargement de la librairie sql\n",
    "%load_ext sql"
   ]
  },
  {
   "cell_type": "code",
   "execution_count": 2,
   "metadata": {},
   "outputs": [],
   "source": [
    "# ouverture de la base de données livres.db ; si elle n'existe pas, elle sera créée.\n",
    "%sql sqlite:///livres.db"
   ]
  },
  {
   "cell_type": "markdown",
   "metadata": {},
   "source": [
    "## Création des tables\n",
    "\n",
    "La commande précédente crée une base de données mais elle est vide.\n",
    "\n",
    "On crée les 5 relations en respectant le schéma relationnel réalisé en activité.\n",
    "On met en place les contraintes d'intégrité:\n",
    "- les clefs primaires pour chaque table sont initialisées avec la clause PRIMARY KEY\n",
    "- les clefs étrangères sont initialisées avec la clause REFERENCES suivi de la clef primaire utilisée.\n",
    "- la table de jointure entre les tables livre et theme."
   ]
  },
  {
   "cell_type": "code",
   "execution_count": 3,
   "metadata": {},
   "outputs": [
    {
     "name": "stdout",
     "output_type": "stream",
     "text": [
      " * sqlite:///livres.db\n",
      "Done.\n",
      "Done.\n",
      "Done.\n",
      "Done.\n",
      "Done.\n"
     ]
    },
    {
     "data": {
      "text/plain": [
       "[]"
      ]
     },
     "execution_count": 3,
     "metadata": {},
     "output_type": "execute_result"
    }
   ],
   "source": [
    "%%sql \n",
    "CREATE TABLE IF NOT EXISTS 'livre' (\n",
    "    id_livre INT PRIMARY KEY,\n",
    "    titre VARCHAR(90) NOT NULL,\n",
    "    ann_pub INT,\n",
    "    id_auteur INT REFERENCES auteur (id_auteur),\n",
    "    id_langue INT REFERENCES langue (id_langue)\n",
    ");\n",
    "\n",
    "CREATE TABLE IF NOT EXISTS 'auteur'(\n",
    "    id_auteur INT PRIMARY KEY,\n",
    "    nom VARCHAR(40) NOT NULL,\n",
    "    prenom  VARCHAR(40) NOT NULL,\n",
    "    ann_naiss INT NOT NULL\n",
    ");\n",
    "\n",
    "CREATE TABLE IF NOT EXISTS 'genre'(\n",
    "    id_genre INT PRIMARY KEY,\n",
    "    theme VARCHAR(40) NOT NULL\n",
    ");\n",
    "\n",
    "CREATE TABLE IF NOT EXISTS 'langue'(\n",
    "    id_langue INT PRIMARY KEY,\n",
    "    langue VARCHAR(30) NOT NULL\n",
    ");\n",
    "\n",
    "CREATE TABLE IF NOT EXISTS 'livre_par_genre' (\n",
    "    id_livre INT REFERENCES livre (id_livre),\n",
    "    id_genre INT REFERENCES genre (id_genre),\n",
    "    PRIMARY KEY (id_livre,id_genre)\n",
    ");"
   ]
  },
  {
   "cell_type": "markdown",
   "metadata": {},
   "source": [
    "## Insertion de données\n",
    "\n",
    "Les 5 relations sont vides. Il faut les compléter avec les valeurs du tableau vu en activité."
   ]
  },
  {
   "cell_type": "code",
   "execution_count": 4,
   "metadata": {},
   "outputs": [
    {
     "name": "stdout",
     "output_type": "stream",
     "text": [
      " * sqlite:///livres.db\n",
      "16 rows affected.\n",
      "10 rows affected.\n",
      "10 rows affected.\n",
      "3 rows affected.\n",
      "35 rows affected.\n"
     ]
    },
    {
     "data": {
      "text/plain": [
       "[]"
      ]
     },
     "execution_count": 4,
     "metadata": {},
     "output_type": "execute_result"
    }
   ],
   "source": [
    "%%sql \n",
    "INSERT INTO 'livre' VALUES\n",
    "(1,'1984',1949,1,1),\n",
    "(2,'Dune',1965,2,1),\n",
    "(3,'Fondation',1951,3,1),\n",
    "(4,'Le meilleur des mondes',1931,4,1),\n",
    "(5,'Farenheit',1953,5,1),\n",
    "(6,'Ubik',1969,6,1),\n",
    "(7,'Chroniques martiennes',1950,5,1),\n",
    "(8,'La nuit des temps',1968,7,1),\n",
    "(9,'Blade runner',1968,6,1),\n",
    "(10,'Les robots',1950,3,1),\n",
    "(11,'La planète des singes',1963,8,2),\n",
    "(12,'Ravage',1943,7,1),\n",
    "(13,'Le maitre du haut chateau',1962,6,1),\n",
    "(14,'Le monde des A',1945,9,1),\n",
    "(15,\"La fin de l'éternité\",1955,3,1),\n",
    "(16,'De la terre à la lune',1865,10,2);\n",
    "\n",
    "INSERT INTO 'auteur' VALUES\n",
    "(1,'Orwell','George',1903),\n",
    "(2,'Herbert','Franck',1920),\n",
    "(3,'Asimov','Isaac',1920),\n",
    "(4,'Huxley','Aldous',1894),\n",
    "(5,'Bradbury','Ray',1920),\n",
    "(6,'K.Dick','Philip',1928),\n",
    "(7,'Barjavel','René',1911),\n",
    "(8,'Boulle','Pierre',1912),\n",
    "(9,'Van Vogt','Alfred Eton',1912),\n",
    "(10,'Verne','Jules',1828);\n",
    "\n",
    "INSERT INTO 'genre' VALUES\n",
    "(1,'totalitarisme'),\n",
    "(2,'science fiction'),\n",
    "(3,'anticipation'),\n",
    "(4,'dystopie'),\n",
    "(5,'économie'),\n",
    "(6,'tragédie'),\n",
    "(7,'intelligence artificielle'),\n",
    "(8,'uchronie'),\n",
    "(9,'voyage dans le temps'),\n",
    "(10,'aventure');\n",
    "\n",
    "INSERT INTO 'langue' VALUES\n",
    "(1,'anglais'),\n",
    "(2,'français'),\n",
    "(3,'allemand');\n",
    "\n",
    "INSERT INTO 'livre_par_genre' VALUES\n",
    "(1,1),(1,2),(1,3),(1,4),\n",
    "(2,2),(2,3),\n",
    "(3,2),(3,5),\n",
    "(4,1),(4,2),(4,4),\n",
    "(5,2),(5,4),\n",
    "(6,2),(6,3),\n",
    "(7,2),(7,3),\n",
    "(8,2),(8,6),\n",
    "(9,7),(9,2),\n",
    "(10,2),(10,7),\n",
    "(11,2),(11,4),\n",
    "(12,2),(12,3),\n",
    "(13,4),(13,8),\n",
    "(14,2),(14,7),\n",
    "(15,2),(15,9),\n",
    "(16,2),(16,10);"
   ]
  },
  {
   "cell_type": "code",
   "execution_count": 5,
   "metadata": {},
   "outputs": [
    {
     "name": "stdout",
     "output_type": "stream",
     "text": [
      " * sqlite:///livres.db\n",
      "Done.\n"
     ]
    },
    {
     "data": {
      "text/html": [
       "<table>\n",
       "    <tr>\n",
       "        <th>id_auteur</th>\n",
       "        <th>nom</th>\n",
       "        <th>prenom</th>\n",
       "        <th>ann_naiss</th>\n",
       "    </tr>\n",
       "    <tr>\n",
       "        <td>1</td>\n",
       "        <td>Orwell</td>\n",
       "        <td>George</td>\n",
       "        <td>1903</td>\n",
       "    </tr>\n",
       "    <tr>\n",
       "        <td>2</td>\n",
       "        <td>Herbert</td>\n",
       "        <td>Franck</td>\n",
       "        <td>1920</td>\n",
       "    </tr>\n",
       "    <tr>\n",
       "        <td>3</td>\n",
       "        <td>Asimov</td>\n",
       "        <td>Isaac</td>\n",
       "        <td>1920</td>\n",
       "    </tr>\n",
       "    <tr>\n",
       "        <td>4</td>\n",
       "        <td>Huxley</td>\n",
       "        <td>Aldous</td>\n",
       "        <td>1894</td>\n",
       "    </tr>\n",
       "    <tr>\n",
       "        <td>5</td>\n",
       "        <td>Bradbury</td>\n",
       "        <td>Ray</td>\n",
       "        <td>1920</td>\n",
       "    </tr>\n",
       "    <tr>\n",
       "        <td>6</td>\n",
       "        <td>K.Dick</td>\n",
       "        <td>Philip</td>\n",
       "        <td>1928</td>\n",
       "    </tr>\n",
       "    <tr>\n",
       "        <td>7</td>\n",
       "        <td>Barjavel</td>\n",
       "        <td>René</td>\n",
       "        <td>1911</td>\n",
       "    </tr>\n",
       "    <tr>\n",
       "        <td>8</td>\n",
       "        <td>Boulle</td>\n",
       "        <td>Pierre</td>\n",
       "        <td>1912</td>\n",
       "    </tr>\n",
       "    <tr>\n",
       "        <td>9</td>\n",
       "        <td>Van Vogt</td>\n",
       "        <td>Alfred Eton</td>\n",
       "        <td>1912</td>\n",
       "    </tr>\n",
       "    <tr>\n",
       "        <td>10</td>\n",
       "        <td>Verne</td>\n",
       "        <td>Jules</td>\n",
       "        <td>1828</td>\n",
       "    </tr>\n",
       "</table>"
      ],
      "text/plain": [
       "[(1, 'Orwell', 'George', 1903),\n",
       " (2, 'Herbert', 'Franck', 1920),\n",
       " (3, 'Asimov', 'Isaac', 1920),\n",
       " (4, 'Huxley', 'Aldous', 1894),\n",
       " (5, 'Bradbury', 'Ray', 1920),\n",
       " (6, 'K.Dick', 'Philip', 1928),\n",
       " (7, 'Barjavel', 'René', 1911),\n",
       " (8, 'Boulle', 'Pierre', 1912),\n",
       " (9, 'Van Vogt', 'Alfred Eton', 1912),\n",
       " (10, 'Verne', 'Jules', 1828)]"
      ]
     },
     "execution_count": 5,
     "metadata": {},
     "output_type": "execute_result"
    }
   ],
   "source": [
    "%sql SELECT * from auteur;"
   ]
  },
  {
   "cell_type": "code",
   "execution_count": 7,
   "metadata": {},
   "outputs": [
    {
     "name": "stdout",
     "output_type": "stream",
     "text": [
      " * sqlite:///livres.db\n",
      "Done.\n"
     ]
    },
    {
     "data": {
      "text/html": [
       "<table>\n",
       "    <tr>\n",
       "        <th>nom</th>\n",
       "        <th>ann_naiss</th>\n",
       "    </tr>\n",
       "    <tr>\n",
       "        <td>K.Dick</td>\n",
       "        <td>1928</td>\n",
       "    </tr>\n",
       "    <tr>\n",
       "        <td>Asimov</td>\n",
       "        <td>1920</td>\n",
       "    </tr>\n",
       "    <tr>\n",
       "        <td>Bradbury</td>\n",
       "        <td>1920</td>\n",
       "    </tr>\n",
       "    <tr>\n",
       "        <td>Herbert</td>\n",
       "        <td>1920</td>\n",
       "    </tr>\n",
       "    <tr>\n",
       "        <td>Boulle</td>\n",
       "        <td>1912</td>\n",
       "    </tr>\n",
       "    <tr>\n",
       "        <td>Van Vogt</td>\n",
       "        <td>1912</td>\n",
       "    </tr>\n",
       "    <tr>\n",
       "        <td>Barjavel</td>\n",
       "        <td>1911</td>\n",
       "    </tr>\n",
       "    <tr>\n",
       "        <td>Orwell</td>\n",
       "        <td>1903</td>\n",
       "    </tr>\n",
       "    <tr>\n",
       "        <td>Huxley</td>\n",
       "        <td>1894</td>\n",
       "    </tr>\n",
       "    <tr>\n",
       "        <td>Verne</td>\n",
       "        <td>1828</td>\n",
       "    </tr>\n",
       "</table>"
      ],
      "text/plain": [
       "[('K.Dick', 1928),\n",
       " ('Asimov', 1920),\n",
       " ('Bradbury', 1920),\n",
       " ('Herbert', 1920),\n",
       " ('Boulle', 1912),\n",
       " ('Van Vogt', 1912),\n",
       " ('Barjavel', 1911),\n",
       " ('Orwell', 1903),\n",
       " ('Huxley', 1894),\n",
       " ('Verne', 1828)]"
      ]
     },
     "execution_count": 7,
     "metadata": {},
     "output_type": "execute_result"
    }
   ],
   "source": [
    "# Afficher les nom et prénom des auteurs nés en 1920\n",
    "\n",
    "#%sql SELECT nom,ann_naiss FROM 'auteur' ORDER BY ann_naiss DESC;\n",
    "\n",
    "%sql SELECT nom,ann_naiss FROM 'auteur' ORDER BY ann_naiss DESC, nom ASC;\n",
    "\n",
    "#%sql SELECT nom,prenom FROM 'auteur' WHERE ann_naiss = 1920;\n",
    "\n",
    "#%sql SELECT nom,prenom FROM 'auteur' WHERE ann_naiss BETWEEN 1900 AND 2000;\n",
    "\n",
    "#%sql SELECT titre,ann_pub FROM 'livre' WHERE titre LIKE 'La%';\n",
    "\n",
    "#%sql SELECT nom,prenom FROM 'auteur' WHERE nom IN ('Asimov','Orwell');\n",
    "\n",
    "#%sql SELECT titre FROM 'livre' WHERE ann_pub>1960 AND ann_pub<1980;\n",
    "\n",
    "#%sql SELECT * FROM 'auteur';"
   ]
  },
  {
   "cell_type": "code",
   "execution_count": 8,
   "metadata": {},
   "outputs": [
    {
     "name": "stdout",
     "output_type": "stream",
     "text": [
      " * sqlite:///livres.db\n",
      "Done.\n"
     ]
    },
    {
     "data": {
      "text/html": [
       "<table>\n",
       "    <tr>\n",
       "        <th>titre</th>\n",
       "        <th>ann_pub</th>\n",
       "    </tr>\n",
       "    <tr>\n",
       "        <td>De la terre à la lune</td>\n",
       "        <td>1865</td>\n",
       "    </tr>\n",
       "    <tr>\n",
       "        <td>Le meilleur des mondes</td>\n",
       "        <td>1931</td>\n",
       "    </tr>\n",
       "    <tr>\n",
       "        <td>Ravage</td>\n",
       "        <td>1943</td>\n",
       "    </tr>\n",
       "    <tr>\n",
       "        <td>Le monde des A</td>\n",
       "        <td>1945</td>\n",
       "    </tr>\n",
       "    <tr>\n",
       "        <td>1984</td>\n",
       "        <td>1949</td>\n",
       "    </tr>\n",
       "    <tr>\n",
       "        <td>Chroniques martiennes</td>\n",
       "        <td>1950</td>\n",
       "    </tr>\n",
       "    <tr>\n",
       "        <td>Les robots</td>\n",
       "        <td>1950</td>\n",
       "    </tr>\n",
       "    <tr>\n",
       "        <td>Fondation</td>\n",
       "        <td>1951</td>\n",
       "    </tr>\n",
       "    <tr>\n",
       "        <td>Farenheit</td>\n",
       "        <td>1953</td>\n",
       "    </tr>\n",
       "    <tr>\n",
       "        <td>La fin de l&#x27;éternité</td>\n",
       "        <td>1955</td>\n",
       "    </tr>\n",
       "    <tr>\n",
       "        <td>Le maitre du haut chateau</td>\n",
       "        <td>1962</td>\n",
       "    </tr>\n",
       "    <tr>\n",
       "        <td>La planète des singes</td>\n",
       "        <td>1963</td>\n",
       "    </tr>\n",
       "    <tr>\n",
       "        <td>Dune</td>\n",
       "        <td>1965</td>\n",
       "    </tr>\n",
       "    <tr>\n",
       "        <td>La nuit des temps</td>\n",
       "        <td>1968</td>\n",
       "    </tr>\n",
       "    <tr>\n",
       "        <td>Blade runner</td>\n",
       "        <td>1968</td>\n",
       "    </tr>\n",
       "    <tr>\n",
       "        <td>Ubik</td>\n",
       "        <td>1969</td>\n",
       "    </tr>\n",
       "</table>"
      ],
      "text/plain": [
       "[('De la terre à la lune', 1865),\n",
       " ('Le meilleur des mondes', 1931),\n",
       " ('Ravage', 1943),\n",
       " ('Le monde des A', 1945),\n",
       " ('1984', 1949),\n",
       " ('Chroniques martiennes', 1950),\n",
       " ('Les robots', 1950),\n",
       " ('Fondation', 1951),\n",
       " ('Farenheit', 1953),\n",
       " (\"La fin de l'éternité\", 1955),\n",
       " ('Le maitre du haut chateau', 1962),\n",
       " ('La planète des singes', 1963),\n",
       " ('Dune', 1965),\n",
       " ('La nuit des temps', 1968),\n",
       " ('Blade runner', 1968),\n",
       " ('Ubik', 1969)]"
      ]
     },
     "execution_count": 8,
     "metadata": {},
     "output_type": "execute_result"
    }
   ],
   "source": [
    "# Afficher les titres de livres du plus ancien au plus récent\n",
    "\n",
    "%sql SELECT titre,ann_pub FROM 'livre' ORDER BY ann_pub;"
   ]
  },
  {
   "cell_type": "code",
   "execution_count": 9,
   "metadata": {},
   "outputs": [
    {
     "name": "stdout",
     "output_type": "stream",
     "text": [
      " * sqlite:///livres.db\n",
      "Done.\n"
     ]
    },
    {
     "data": {
      "text/html": [
       "<table>\n",
       "    <tr>\n",
       "        <th>titre</th>\n",
       "        <th>nom</th>\n",
       "        <th>prenom</th>\n",
       "    </tr>\n",
       "    <tr>\n",
       "        <td>La planète des singes</td>\n",
       "        <td>Boulle</td>\n",
       "        <td>Pierre</td>\n",
       "    </tr>\n",
       "    <tr>\n",
       "        <td>De la terre à la lune</td>\n",
       "        <td>Verne</td>\n",
       "        <td>Jules</td>\n",
       "    </tr>\n",
       "</table>"
      ],
      "text/plain": [
       "[('La planète des singes', 'Boulle', 'Pierre'),\n",
       " ('De la terre à la lune', 'Verne', 'Jules')]"
      ]
     },
     "execution_count": 9,
     "metadata": {},
     "output_type": "execute_result"
    }
   ],
   "source": [
    "%%sql \n",
    "\n",
    "SELECT titre,nom,prenom FROM 'livre'\n",
    "JOIN 'auteur' ON livre.id_auteur = auteur.id_auteur\n",
    "JOIN 'langue' ON livre.id_langue = langue.id_langue\n",
    "WHERE langue = 'français';\n"
   ]
  },
  {
   "cell_type": "code",
   "execution_count": 10,
   "metadata": {},
   "outputs": [
    {
     "name": "stdout",
     "output_type": "stream",
     "text": [
      " * sqlite:///livres.db\n",
      "Done.\n"
     ]
    },
    {
     "data": {
      "text/html": [
       "<table>\n",
       "    <tr>\n",
       "        <th>titre</th>\n",
       "        <th>theme</th>\n",
       "    </tr>\n",
       "    <tr>\n",
       "        <td>1984</td>\n",
       "        <td>totalitarisme</td>\n",
       "    </tr>\n",
       "    <tr>\n",
       "        <td>Le meilleur des mondes</td>\n",
       "        <td>totalitarisme</td>\n",
       "    </tr>\n",
       "</table>"
      ],
      "text/plain": [
       "[('1984', 'totalitarisme'), ('Le meilleur des mondes', 'totalitarisme')]"
      ]
     },
     "execution_count": 10,
     "metadata": {},
     "output_type": "execute_result"
    }
   ],
   "source": [
    "%%sql\n",
    "\n",
    "SELECT DISTINCT titre,theme FROM livre \n",
    "JOIN livre_par_genre ON livre.id_livre = livre_par_genre.id_livre\n",
    "JOIN genre ON genre.id_genre=livre_par_genre.id_genre\n",
    "WHERE theme = 'totalitarisme';\n"
   ]
  },
  {
   "cell_type": "code",
   "execution_count": null,
   "metadata": {},
   "outputs": [],
   "source": [
    "# Afficher les titres des livres qui traitent de la science fiction\n",
    "%sql SELECT titre FROM 'livre' \\\n",
    "JOIN 'livre_theme' ON livre_id=id_livre \\\n",
    "JOIN 'theme' ON theme_id=id_theme \\\n",
    "WHERE theme='science fiction';"
   ]
  },
  {
   "cell_type": "code",
   "execution_count": null,
   "metadata": {},
   "outputs": [],
   "source": [
    "# Afficher les titre et auteur des livres qui ont écrit un roman d'aventure\n",
    "\n",
    "%sql SELECT titre,nom FROM 'livre' \\\n",
    "JOIN 'auteur' ON auteur_id=id_auteur \\\n",
    "JOIN 'livre_theme' ON livre_id=id_livre \\\n",
    "JOIN 'theme' ON theme_id=id_theme \\\n",
    "WHERE theme='aventure';"
   ]
  },
  {
   "cell_type": "code",
   "execution_count": null,
   "metadata": {},
   "outputs": [],
   "source": [
    "# Affiche le nombre d'élément contenus dans la table livre\n",
    "\n",
    "%sql SELECT COUNT(*) FROM 'livre';"
   ]
  },
  {
   "cell_type": "code",
   "execution_count": null,
   "metadata": {},
   "outputs": [],
   "source": [
    "# Insertion de 2 nouveaux livres\n",
    "# Pour le second, on attribue un mauvais auteur que l'on va changer après\n",
    "\n",
    "%sql INSERT INTO 'livre' VALUES (17,'Vingt mille lieues sous les mers',1870,10);\n",
    "\n",
    "%sql INSERT INTO 'livre' VALUES (18,'Dôme',2009,10) ;"
   ]
  },
  {
   "cell_type": "code",
   "execution_count": null,
   "metadata": {},
   "outputs": [],
   "source": [
    "# On vérifie que l'ajout s'est bien passé\n",
    "%sql SELECT * FROM livre;"
   ]
  },
  {
   "cell_type": "code",
   "execution_count": null,
   "metadata": {},
   "outputs": [],
   "source": [
    "# On ajoute l'auteur Stephen King manquant\n",
    "\n",
    "%sql INSERT INTO 'auteur' VALUES (11,'King','Stephen',1947,1);\n",
    "\n",
    "# On met à jouir la table livre en modifiant l'auteur_id avec l'id_auteur de Stephen King\n",
    "\n",
    "%sql UPDATE 'livre' SET auteur_id=11 WHERE titre='Dôme';"
   ]
  },
  {
   "cell_type": "code",
   "execution_count": null,
   "metadata": {},
   "outputs": [],
   "source": [
    "# On vérifie que tout est correct\n",
    "\n",
    "%sql SELECT * FROM livre;"
   ]
  },
  {
   "cell_type": "code",
   "execution_count": null,
   "metadata": {},
   "outputs": [],
   "source": [
    "%sql DELETE FROM 'livre' WHERE id_livre=17;\n",
    "\n",
    "%sql DELETE FROM 'livre' WHERE id_livre=18;"
   ]
  },
  {
   "cell_type": "markdown",
   "metadata": {},
   "source": [
    "### Table de jointure\n",
    "\n",
    "Pour chaque titre de roman, on peut associer plusieurs thèmes. Ces thèmes peuvent être attribués à plusieurs romans. On parle alors de liaisons de plusieurs à plusieurs.\n",
    "\n",
    "On crée une table de jointure **livre_theme** qui va contenir les clés primaires des tables **livre** et **theme**. Chaque couple est unique et constitue la clé primaire de notre table de jointure.\n",
    "\n",
    "Une requête sur ces trois tables se fait par la clause JOIN ON. L'idée est de construire un tableau plus grand composé des attributs de chacune des tables. Le lien se faisant par les clefs étrangères."
   ]
  },
  {
   "cell_type": "code",
   "execution_count": null,
   "metadata": {},
   "outputs": [],
   "source": [
    "%%sql\n",
    "SELECT * FROM livre_theme\n",
    "JOIN livre ON livre.id_livre=livre_theme.livre_id\n",
    "JOIN theme ON theme.id_theme=livre_theme.theme_id\n",
    "WHERE livre.id_livre=1;"
   ]
  },
  {
   "cell_type": "code",
   "execution_count": null,
   "metadata": {},
   "outputs": [],
   "source": [
    "%%sql\n",
    "SELECT * FROM livre\n",
    "JOIN livre_theme ON livre.id_livre=livre_theme.livre_id\n",
    "JOIN theme ON theme.id_theme=livre_theme.theme_id\n",
    "WHERE livre.id_livre=1;"
   ]
  },
  {
   "cell_type": "code",
   "execution_count": null,
   "metadata": {},
   "outputs": [],
   "source": [
    "%%sql\n",
    "SELECT * FROM theme\n",
    "JOIN livre_theme ON theme.id_theme=livre_theme.theme_id\n",
    "JOIN livre ON livre.id_livre=livre_theme.livre_id\n",
    "WHERE livre.id_livre=1;"
   ]
  },
  {
   "cell_type": "code",
   "execution_count": null,
   "metadata": {},
   "outputs": [],
   "source": [
    "%%sql\n",
    "SELECT titre,ann_pub,livre_id,theme_id,theme FROM livre\n",
    "JOIN livre_theme ON livre.id_livre=livre_theme.livre_id\n",
    "JOIN theme ON theme.id_theme=livre_theme.theme_id;"
   ]
  },
  {
   "cell_type": "code",
   "execution_count": null,
   "metadata": {},
   "outputs": [],
   "source": [
    "%%sql\n",
    "SELECT titre,ann_pub,livre_id,theme_id,theme FROM livre\n",
    "JOIN livre_theme ON id_livre=livre_id\n",
    "JOIN theme ON id_theme=theme_id;"
   ]
  },
  {
   "cell_type": "code",
   "execution_count": null,
   "metadata": {},
   "outputs": [],
   "source": []
  }
 ],
 "metadata": {
  "kernelspec": {
   "display_name": "Python 3",
   "language": "python",
   "name": "python3"
  },
  "language_info": {
   "codemirror_mode": {
    "name": "ipython",
    "version": 3
   },
   "file_extension": ".py",
   "mimetype": "text/x-python",
   "name": "python",
   "nbconvert_exporter": "python",
   "pygments_lexer": "ipython3",
   "version": "3.9.4"
  }
 },
 "nbformat": 4,
 "nbformat_minor": 4
}
